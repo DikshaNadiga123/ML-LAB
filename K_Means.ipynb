{
  "nbformat": 4,
  "nbformat_minor": 0,
  "metadata": {
    "colab": {
      "provenance": [],
      "authorship_tag": "ABX9TyOBIUx4OQGyYMEEW7hYaDew",
      "include_colab_link": true
    },
    "kernelspec": {
      "name": "python3",
      "display_name": "Python 3"
    },
    "language_info": {
      "name": "python"
    }
  },
  "cells": [
    {
      "cell_type": "markdown",
      "metadata": {
        "id": "view-in-github",
        "colab_type": "text"
      },
      "source": [
        "<a href=\"https://colab.research.google.com/github/DikshaNadiga123/ML-LAB/blob/main/K_Means.ipynb\" target=\"_parent\"><img src=\"https://colab.research.google.com/assets/colab-badge.svg\" alt=\"Open In Colab\"/></a>"
      ]
    },
    {
      "cell_type": "code",
      "execution_count": 1,
      "metadata": {
        "colab": {
          "base_uri": "https://localhost:8080/"
        },
        "id": "743qCDQPdgCU",
        "outputId": "388a499a-adf0-42a7-8de2-a88654b92c5f"
      },
      "outputs": [
        {
          "output_type": "stream",
          "name": "stdout",
          "text": [
            "Centroids:\n",
            "[[5.88360656 2.74098361 4.38852459 1.43442623]\n",
            " [5.006      3.418      1.464      0.244     ]\n",
            " [6.85384615 3.07692308 5.71538462 2.05384615]]\n",
            "\n",
            "Cluster Assignments:\n",
            "[1 1 1 1 1 1 1 1 1 1 1 1 1 1 1 1 1 1 1 1 1 1 1 1 1 1 1 1 1 1 1 1 1 1 1 1 1\n",
            " 1 1 1 1 1 1 1 1 1 1 1 1 1 2 0 2 0 0 0 0 0 0 0 0 0 0 0 0 0 0 0 0 0 0 0 0 0\n",
            " 0 0 0 2 0 0 0 0 0 0 0 0 0 0 0 0 0 0 0 0 0 0 0 0 0 0 2 0 2 2 2 2 0 2 2 2 2\n",
            " 2 2 0 0 2 2 2 2 0 2 0 2 0 2 2 0 0 2 2 2 2 2 0 2 2 2 2 0 2 2 2 0 2 2 2 0 2\n",
            " 2 0]\n",
            "\n",
            "Silhouette Score: 0.5509643746707443\n",
            "\n",
            "Dataset with Clusters:\n",
            "   Id  SepalLengthCm  SepalWidthCm  PetalLengthCm  PetalWidthCm      Species  \\\n",
            "0   1            5.1           3.5            1.4           0.2  Iris-setosa   \n",
            "1   2            4.9           3.0            1.4           0.2  Iris-setosa   \n",
            "2   3            4.7           3.2            1.3           0.2  Iris-setosa   \n",
            "3   4            4.6           3.1            1.5           0.2  Iris-setosa   \n",
            "4   5            5.0           3.6            1.4           0.2  Iris-setosa   \n",
            "\n",
            "   Cluster  \n",
            "0        1  \n",
            "1        1  \n",
            "2        1  \n",
            "3        1  \n",
            "4        1  \n"
          ]
        }
      ],
      "source": [
        "import numpy as np\n",
        "import pandas as pd\n",
        "from sklearn.metrics import silhouette_score\n",
        "\n",
        "# K-Means Clustering Implementation\n",
        "def kmeans(X, n_clusters, max_iters=300, tol=1e-4):\n",
        "    n_samples, n_features = X.shape\n",
        "\n",
        "    # Randomly initialize cluster centers\n",
        "    rng = np.random.default_rng(seed=42)\n",
        "    centroids = X[rng.choice(n_samples, n_clusters, replace=False)]\n",
        "\n",
        "    for _ in range(max_iters):\n",
        "        # Assign samples to nearest centroid\n",
        "        distances = np.linalg.norm(X[:, np.newaxis] - centroids, axis=2)\n",
        "        cluster_assignments = np.argmin(distances, axis=1)\n",
        "\n",
        "        # Calculate new centroids\n",
        "        new_centroids = np.array([X[cluster_assignments == k].mean(axis=0) for k in range(n_clusters)])\n",
        "\n",
        "        # Check for convergence\n",
        "        if np.linalg.norm(new_centroids - centroids) < tol:\n",
        "            break\n",
        "\n",
        "        centroids = new_centroids\n",
        "\n",
        "    return centroids, cluster_assignments\n",
        "\n",
        "# Load dataset\n",
        "iris = pd.read_csv('/content/Iris.csv')\n",
        "\n",
        "# Prepare features\n",
        "X = iris[['SepalLengthCm', 'SepalWidthCm', 'PetalLengthCm', 'PetalWidthCm']].values\n",
        "\n",
        "# Number of clusters\n",
        "n_clusters = 3\n",
        "\n",
        "# Apply K-Means\n",
        "centroids, cluster_assignments = kmeans(X, n_clusters)\n",
        "\n",
        "# Evaluate clustering using silhouette score\n",
        "silhouette_avg = silhouette_score(X, cluster_assignments)\n",
        "\n",
        "# Print results\n",
        "print(\"Centroids:\")\n",
        "print(centroids)\n",
        "print(\"\\nCluster Assignments:\")\n",
        "print(cluster_assignments)\n",
        "print(\"\\nSilhouette Score:\", silhouette_avg)\n",
        "\n",
        "# Add cluster assignments to the original dataset\n",
        "iris['Cluster'] = cluster_assignments\n",
        "print(\"\\nDataset with Clusters:\")\n",
        "print(iris.head())"
      ]
    }
  ]
}