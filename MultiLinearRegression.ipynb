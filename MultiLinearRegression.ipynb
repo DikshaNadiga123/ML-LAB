{
  "nbformat": 4,
  "nbformat_minor": 0,
  "metadata": {
    "colab": {
      "provenance": [],
      "authorship_tag": "ABX9TyNGLRDFKSZTJQUFadZE1llm",
      "include_colab_link": true
    },
    "kernelspec": {
      "name": "python3",
      "display_name": "Python 3"
    },
    "language_info": {
      "name": "python"
    }
  },
  "cells": [
    {
      "cell_type": "markdown",
      "metadata": {
        "id": "view-in-github",
        "colab_type": "text"
      },
      "source": [
        "<a href=\"https://colab.research.google.com/github/DikshaNadiga123/ML-LAB/blob/main/MultiLinearRegression.ipynb\" target=\"_parent\"><img src=\"https://colab.research.google.com/assets/colab-badge.svg\" alt=\"Open In Colab\"/></a>"
      ]
    },
    {
      "cell_type": "code",
      "execution_count": 2,
      "metadata": {
        "colab": {
          "base_uri": "https://localhost:8080/"
        },
        "id": "4XaOePqNiIEy",
        "outputId": "b4223b5e-de78-459c-eb26-6648ec62bd9d"
      },
      "outputs": [
        {
          "output_type": "stream",
          "name": "stdout",
          "text": [
            "Intercept: 10488.108646562825\n",
            "Coefficients:\n",
            "age: 447.92782183140974\n",
            "experience: 2014.0408415841584\n",
            "Mean Squared Error: 26561000.728655178\n",
            "Actual: 30450.0, Predicted: 23700.35\n",
            "Actual: 35670.0, Predicted: 29968.07\n",
            "Actual: 31580.0, Predicted: 35568.80\n",
            "Actual: 40130.0, Predicted: 34892.00\n",
            "Actual: 47830.0, Predicted: 49889.41\n",
            "Actual: 41630.0, Predicted: 47430.71\n",
            "Actual: 41340.0, Predicted: 33100.29\n",
            "Actual: 37650.0, Predicted: 33325.89\n",
            "Actual: 40250.0, Predicted: 37131.64\n",
            "Actual: 45150.0, Predicted: 44069.62\n",
            "Actual: 27840.0, Predicted: 25492.06\n",
            "Actual: 46110.0, Predicted: 49667.08\n",
            "Actual: 36720.0, Predicted: 44746.42\n",
            "Actual: 34800.0, Predicted: 41388.59\n",
            "Actual: 51300.0, Predicted: 54365.42\n",
            "Actual: 38900.0, Predicted: 40937.39\n",
            "Actual: 63600.0, Predicted: 70706.62\n",
            "Actual: 30870.0, Predicted: 22804.49\n",
            "Actual: 44190.0, Predicted: 48323.30\n",
            "Actual: 48700.0, Predicted: 47201.85\n"
          ]
        }
      ],
      "source": [
        "def load_csv(filename):\n",
        "    with open(filename, 'r') as file:\n",
        "        lines = file.readlines()\n",
        "        headers = lines[0].strip().split(',')\n",
        "        data = []\n",
        "        for line in lines[1:]:\n",
        "            values = line.strip().split(',')\n",
        "            row = []\n",
        "            for value in values:\n",
        "                # Convert categorical Yes/No to 1/0\n",
        "                if value.lower() == 'yes':\n",
        "                    row.append(1.0)\n",
        "                elif value.lower() == 'no':\n",
        "                    row.append(0.0)\n",
        "                else:\n",
        "                    row.append(float(value))\n",
        "            data.append(row)\n",
        "    return headers, data\n",
        "\n",
        "def mean(values):\n",
        "    return sum(values) / len(values)\n",
        "\n",
        "def variance(values, mean_val):\n",
        "    return sum((x - mean_val) ** 2 for x in values)\n",
        "\n",
        "def covariance(x, x_mean, y, y_mean):\n",
        "    return sum((x[i] - x_mean) * (y[i] - y_mean) for i in range(len(x)))\n",
        "\n",
        "def coefficients(dataset):\n",
        "    X = [row[:-1] for row in dataset]\n",
        "    Y = [row[-1] for row in dataset]\n",
        "    means = [mean(col) for col in zip(*X)]\n",
        "    y_mean = mean(Y)\n",
        "    coeffs = []\n",
        "    for i in range(len(X[0])):\n",
        "        cov = covariance([row[i] for row in X], means[i], Y, y_mean)\n",
        "        var = variance([row[i] for row in X], means[i])\n",
        "        coeffs.append(cov / var if var != 0 else 0)\n",
        "    intercept = y_mean - sum(coeffs[i] * means[i] for i in range(len(coeffs)))\n",
        "    return intercept, coeffs\n",
        "\n",
        "def predict(row, intercept, coeffs):\n",
        "    return intercept + sum(coeffs[i] * row[i] for i in range(len(coeffs)))\n",
        "\n",
        "def mean_squared_error(actual, predicted):\n",
        "    return sum((actual[i] - predicted[i]) ** 2 for i in range(len(actual))) / len(actual)\n",
        "\n",
        "# MAIN\n",
        "if __name__ == \"__main__\":\n",
        "    headers, data = load_csv(\"/content/multiple_linear_regression_dataset.csv\")\n",
        "\n",
        "    intercept, coeffs = coefficients(data)\n",
        "\n",
        "    print(\"Intercept:\", intercept)\n",
        "    print(\"Coefficients:\")\n",
        "    for i in range(len(coeffs)):\n",
        "        print(f\"{headers[i]}: {coeffs[i]}\")\n",
        "\n",
        "    predictions = [predict(row[:-1], intercept, coeffs) for row in data]\n",
        "    actual = [row[-1] for row in data]\n",
        "\n",
        "    mse = mean_squared_error(actual, predictions)\n",
        "    print(\"Mean Squared Error:\", mse)\n",
        "\n",
        "    for i in range(len(data)):\n",
        "        print(f\"Actual: {actual[i]}, Predicted: {predictions[i]:.2f}\")"
      ]
    }
  ]
}