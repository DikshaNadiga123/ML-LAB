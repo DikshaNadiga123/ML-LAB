{
  "nbformat": 4,
  "nbformat_minor": 0,
  "metadata": {
    "colab": {
      "provenance": [],
      "authorship_tag": "ABX9TyMmojZlm3hN1JMLwI70QzcX",
      "include_colab_link": true
    },
    "kernelspec": {
      "name": "python3",
      "display_name": "Python 3"
    },
    "language_info": {
      "name": "python"
    }
  },
  "cells": [
    {
      "cell_type": "markdown",
      "metadata": {
        "id": "view-in-github",
        "colab_type": "text"
      },
      "source": [
        "<a href=\"https://colab.research.google.com/github/DikshaNadiga123/ML-LAB/blob/main/Adaboost.ipynb\" target=\"_parent\"><img src=\"https://colab.research.google.com/assets/colab-badge.svg\" alt=\"Open In Colab\"/></a>"
      ]
    },
    {
      "cell_type": "code",
      "execution_count": 3,
      "metadata": {
        "colab": {
          "base_uri": "https://localhost:8080/"
        },
        "id": "3xef9MJUcmZC",
        "outputId": "f1bdf020-1f0b-49e8-fe23-8ce237961812"
      },
      "outputs": [
        {
          "output_type": "stream",
          "name": "stdout",
          "text": [
            "AdaBoost Model Accuracy: 1.0\n",
            "Precision: 1.0\n",
            "Recall: 1.0\n",
            "F1 Score: 1.0\n",
            "Confusion Matrix:\n",
            " [[19  0]\n",
            " [ 0 26]]\n",
            "Classification Report:\n",
            "               precision    recall  f1-score   support\n",
            "\n",
            "          -1       1.00      1.00      1.00        19\n",
            "           1       1.00      1.00      1.00        26\n",
            "\n",
            "    accuracy                           1.00        45\n",
            "   macro avg       1.00      1.00      1.00        45\n",
            "weighted avg       1.00      1.00      1.00        45\n",
            "\n"
          ]
        }
      ],
      "source": [
        "import numpy as np\n",
        "import pandas as pd\n",
        "from sklearn.metrics import accuracy_score, precision_score, recall_score, f1_score, confusion_matrix, classification_report\n",
        "\n",
        "# Function to calculate weighted accuracy\n",
        "def calculate_weighted_error(y_true, y_pred, weights):\n",
        "    return np.sum(weights * (y_true != y_pred)) / np.sum(weights)\n",
        "\n",
        "# Function to update weights\n",
        "def update_weights(weights, alpha, y_true, y_pred):\n",
        "    return weights * np.exp(alpha * (y_true != y_pred).astype(float))\n",
        "\n",
        "# AdaBoost implementation\n",
        "def adaboost(X, y, n_estimators):\n",
        "    n_samples, n_features = X.shape\n",
        "    weights = np.ones(n_samples) / n_samples\n",
        "    estimators = []\n",
        "    alphas = []\n",
        "\n",
        "    for _ in range(n_estimators):\n",
        "        # Train a weak learner (Decision Stump)\n",
        "        best_feature, best_threshold, best_polarity, best_error = None, None, None, float('inf')\n",
        "\n",
        "        for feature in range(n_features):\n",
        "            thresholds = np.unique(X[:, feature])\n",
        "\n",
        "            for threshold in thresholds:\n",
        "                for polarity in [1, -1]:\n",
        "                    y_pred = np.ones(n_samples)\n",
        "                    y_pred[polarity * X[:, feature] < polarity * threshold] = -1\n",
        "\n",
        "                    error = calculate_weighted_error(y, y_pred, weights)\n",
        "\n",
        "                    if error < best_error:\n",
        "                        best_feature = feature\n",
        "                        best_threshold = threshold\n",
        "                        best_polarity = polarity\n",
        "                        best_error = error\n",
        "\n",
        "        # Calculate alpha (model weight)\n",
        "        alpha = 0.5 * np.log((1 - best_error) / (best_error + 1e-10))\n",
        "\n",
        "        # Update weights\n",
        "        y_pred = np.ones(n_samples)\n",
        "        y_pred[best_polarity * X[:, best_feature] < best_polarity * best_threshold] = -1\n",
        "        weights = update_weights(weights, alpha, y, y_pred)\n",
        "\n",
        "        estimators.append((best_feature, best_threshold, best_polarity))\n",
        "        alphas.append(alpha)\n",
        "\n",
        "    return estimators, alphas\n",
        "\n",
        "# Prediction function\n",
        "def predict(X, estimators, alphas):\n",
        "    n_samples = X.shape[0]\n",
        "    final_prediction = np.zeros(n_samples)\n",
        "\n",
        "    for (feature, threshold, polarity), alpha in zip(estimators, alphas):\n",
        "        prediction = np.ones(n_samples)\n",
        "        prediction[polarity * X[:, feature] < polarity * threshold] = -1\n",
        "        final_prediction += alpha * prediction\n",
        "\n",
        "    return np.sign(final_prediction)\n",
        "\n",
        "# Load dataset\n",
        "iris = pd.read_csv('/content/Iris.csv')\n",
        "\n",
        "# Prepare features and target\n",
        "X = iris[['SepalLengthCm', 'SepalWidthCm', 'PetalLengthCm', 'PetalWidthCm']].values\n",
        "y = iris['Species']\n",
        "\n",
        "# Convert target to numerical labels\n",
        "from sklearn.preprocessing import LabelEncoder\n",
        "le = LabelEncoder()\n",
        "y = le.fit_transform(y)\n",
        "y = np.where(y == 0, -1, 1)  # Convert labels to -1 and 1\n",
        "\n",
        "# Train-test split\n",
        "from sklearn.model_selection import train_test_split\n",
        "X_train, X_test, y_train, y_test = train_test_split(X, y, test_size=0.3, random_state=42)\n",
        "\n",
        "# Train AdaBoost\n",
        "n_estimators = 50\n",
        "estimators, alphas = adaboost(X_train, y_train, n_estimators)\n",
        "\n",
        "# Make predictions\n",
        "y_pred = predict(X_test, estimators, alphas)\n",
        "\n",
        "# Evaluate\n",
        "accuracy = accuracy_score(y_test, y_pred)\n",
        "precision = precision_score(y_test, y_pred, average='weighted')\n",
        "recall = recall_score(y_test, y_pred, average='weighted')\n",
        "f1 = f1_score(y_test, y_pred, average='weighted')\n",
        "conf_matrix = confusion_matrix(y_test, y_pred)\n",
        "\n",
        "print(\"AdaBoost Model Accuracy:\", accuracy)\n",
        "print(\"Precision:\", precision)\n",
        "print(\"Recall:\", recall)\n",
        "print(\"F1 Score:\", f1)\n",
        "print(\"Confusion Matrix:\\n\", conf_matrix)\n",
        "print(\"Classification Report:\\n\", classification_report(y_test, y_pred))"
      ]
    }
  ]
}