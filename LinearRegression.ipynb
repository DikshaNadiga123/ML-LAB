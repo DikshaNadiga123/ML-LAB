{
  "nbformat": 4,
  "nbformat_minor": 0,
  "metadata": {
    "colab": {
      "provenance": [],
      "authorship_tag": "ABX9TyPeqhlk+5F/9D7NfoblETsV",
      "include_colab_link": true
    },
    "kernelspec": {
      "name": "python3",
      "display_name": "Python 3"
    },
    "language_info": {
      "name": "python"
    }
  },
  "cells": [
    {
      "cell_type": "markdown",
      "metadata": {
        "id": "view-in-github",
        "colab_type": "text"
      },
      "source": [
        "<a href=\"https://colab.research.google.com/github/DikshaNadiga123/ML-LAB/blob/main/LinearRegression.ipynb\" target=\"_parent\"><img src=\"https://colab.research.google.com/assets/colab-badge.svg\" alt=\"Open In Colab\"/></a>"
      ]
    },
    {
      "cell_type": "code",
      "execution_count": 4,
      "metadata": {
        "colab": {
          "base_uri": "https://localhost:8080/"
        },
        "id": "XiG1L3K2hrRT",
        "outputId": "50d18690-03ac-42bb-d083-1e7f5107e518"
      },
      "outputs": [
        {
          "output_type": "stream",
          "name": "stdout",
          "text": [
            "Learned model: Salary = 9449.96 * YearsExperience + 25792.20\n",
            "Mean Squared Error: 31270951.72\n",
            "Years: 1.1, Actual Salary: 39343.0, Predicted: 36187.16\n",
            "Years: 1.3, Actual Salary: 46205.0, Predicted: 38077.15\n",
            "Years: 1.5, Actual Salary: 37731.0, Predicted: 39967.14\n",
            "Years: 2.0, Actual Salary: 43525.0, Predicted: 44692.12\n",
            "Years: 2.2, Actual Salary: 39891.0, Predicted: 46582.12\n",
            "Years: 2.9, Actual Salary: 56642.0, Predicted: 53197.09\n",
            "Years: 3.0, Actual Salary: 60150.0, Predicted: 54142.09\n",
            "Years: 3.2, Actual Salary: 54445.0, Predicted: 56032.08\n",
            "Years: 3.2, Actual Salary: 64445.0, Predicted: 56032.08\n",
            "Years: 3.7, Actual Salary: 57189.0, Predicted: 60757.06\n",
            "Years: 3.9, Actual Salary: 63218.0, Predicted: 62647.05\n",
            "Years: 4.0, Actual Salary: 55794.0, Predicted: 63592.05\n",
            "Years: 4.0, Actual Salary: 56957.0, Predicted: 63592.05\n",
            "Years: 4.1, Actual Salary: 57081.0, Predicted: 64537.05\n",
            "Years: 4.5, Actual Salary: 61111.0, Predicted: 68317.03\n",
            "Years: 4.9, Actual Salary: 67938.0, Predicted: 72097.02\n",
            "Years: 5.1, Actual Salary: 66029.0, Predicted: 73987.01\n",
            "Years: 5.3, Actual Salary: 83088.0, Predicted: 75877.00\n",
            "Years: 5.9, Actual Salary: 81363.0, Predicted: 81546.98\n",
            "Years: 6.0, Actual Salary: 93940.0, Predicted: 82491.97\n",
            "Years: 6.8, Actual Salary: 91738.0, Predicted: 90051.94\n",
            "Years: 7.1, Actual Salary: 98273.0, Predicted: 92886.93\n",
            "Years: 7.9, Actual Salary: 101302.0, Predicted: 100446.90\n",
            "Years: 8.2, Actual Salary: 113812.0, Predicted: 103281.89\n",
            "Years: 8.7, Actual Salary: 109431.0, Predicted: 108006.87\n",
            "Years: 9.0, Actual Salary: 105582.0, Predicted: 110841.86\n",
            "Years: 9.5, Actual Salary: 116969.0, Predicted: 115566.84\n",
            "Years: 9.6, Actual Salary: 112635.0, Predicted: 116511.84\n",
            "Years: 10.3, Actual Salary: 122391.0, Predicted: 123126.81\n",
            "Years: 10.5, Actual Salary: 121872.0, Predicted: 125016.80\n"
          ]
        }
      ],
      "source": [
        "\n",
        "#linear regression\n",
        "import csv\n",
        "\n",
        "# Load data from CSV\n",
        "def load_data(filename):\n",
        "    X = []\n",
        "    Y = []\n",
        "    with open(filename, 'r') as file:\n",
        "        reader = csv.DictReader(file)\n",
        "        for row in reader:\n",
        "            X.append(float(row['YearsExperience']))\n",
        "            Y.append(float(row['Salary']))\n",
        "    return X, Y\n",
        "\n",
        "# Mean\n",
        "def mean(values):\n",
        "    return sum(values) / len(values)\n",
        "\n",
        "# Variance\n",
        "def variance(values, mean_val):\n",
        "    return sum((x - mean_val) ** 2 for x in values)\n",
        "\n",
        "# Covariance\n",
        "def covariance(X, mean_x, Y, mean_y):\n",
        "    return sum((X[i] - mean_x) * (Y[i] - mean_y) for i in range(len(X)))\n",
        "\n",
        "# Coefficients (slope and intercept)\n",
        "def coefficients(X, Y):\n",
        "    mean_x = mean(X)\n",
        "    mean_y = mean(Y)\n",
        "    covar = covariance(X, mean_x, Y, mean_y)\n",
        "    var_x = variance(X, mean_x)\n",
        "    m = covar / var_x\n",
        "    b = mean_y - m * mean_x\n",
        "    return m, b\n",
        "\n",
        "# Predict\n",
        "def predict(X, m, b):\n",
        "    return [m * x + b for x in X]\n",
        "\n",
        "# Mean Squared Error\n",
        "def mean_squared_error(actual, predicted):\n",
        "    return sum((a - p) ** 2 for a, p in zip(actual, predicted)) / len(actual)\n",
        "\n",
        "# --- MAIN EXECUTION ---\n",
        "\n",
        "# Load data\n",
        "X, Y = load_data(\"/content/salary_data.csv\")\n",
        "\n",
        "# Train model\n",
        "m, b = coefficients(X, Y)\n",
        "print(f\"Learned model: Salary = {m:.2f} * YearsExperience + {b:.2f}\")\n",
        "\n",
        "# Make predictions\n",
        "predictions = predict(X, m, b)\n",
        "\n",
        "# Evaluate\n",
        "mse = mean_squared_error(Y, predictions)\n",
        "print(f\"Mean Squared Error: {mse:.2f}\")\n",
        "\n",
        "# Display predictions\n",
        "for i in range(len(X)):\n",
        "    print(f\"Years: {X[i]}, Actual Salary: {Y[i]}, Predicted: {predictions[i]:.2f}\")"
      ]
    }
  ]
}